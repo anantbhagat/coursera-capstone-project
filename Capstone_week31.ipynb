{
    "cells": [
        {
            "cell_type": "code",
            "execution_count": 7,
            "metadata": {},
            "outputs": [],
            "source": "\nimport pandas as pd\nimport numpy as np\nimport matplotlib.pyplot as plt\nfrom unicodedata import normalize"
        },
        {
            "cell_type": "markdown",
            "metadata": {},
            "source": "## Reading file from the wiki pedia Assignment 1\n##   1. The dataframe will consist of three columns: PostalCode, Borough, and Neighborhood\n##    2. Only process the cells that have an assigned borough. Ignore cells with a borough that is Not assigned.\n## More than one neighborhood can exist in one postal code area. For example, in the table on the Wikipedia page, you will notice that M5A is listed twice and has two neighborhoods: Harbourfront and Regent Park. These two rows will be combined into one row with the neighborhoods separated with a comma as shown in row 11  in the above table.\n##    3.If a cell has a borough but a Not assigned  neighborhood, then the neighborhood will be the same as the borough.\n##    4. Clean your Notebook and add Markdown cells to explain your work and any assumptions you are making.\n##    5. In the last cell of your notebook, use the .shape method to print the number of rows of your dataframe."
        },
        {
            "cell_type": "code",
            "execution_count": 6,
            "metadata": {},
            "outputs": [],
            "source": "table_CAN = pd.read_html('https://en.wikipedia.org/wiki/List_of_postal_codes_of_Canada:_M')\ndf_TN = table_CAN[0]\ndf_TN['Borough'].replace(\"Not assigned\", np.nan, inplace = True)\ndf_TN.dropna(subset=[\"Borough\"], axis=0, inplace=True)\n# reset index, because we droped two rows\ndf_TN.reset_index(drop=True, inplace=True)\ndf_TN['Neighbourhood'].replace(\"Not assigned\", df_TN['Borough'], inplace = True)"
        },
        {
            "cell_type": "code",
            "execution_count": null,
            "metadata": {},
            "outputs": [],
            "source": "df_TN.shape"
        }
    ],
    "metadata": {
        "kernelspec": {
            "display_name": "Python 3.7",
            "language": "python",
            "name": "python3"
        },
        "language_info": {
            "codemirror_mode": {
                "name": "ipython",
                "version": 3
            },
            "file_extension": ".py",
            "mimetype": "text/x-python",
            "name": "python",
            "nbconvert_exporter": "python",
            "pygments_lexer": "ipython3",
            "version": "3.7.9"
        }
    },
    "nbformat": 4,
    "nbformat_minor": 1
}